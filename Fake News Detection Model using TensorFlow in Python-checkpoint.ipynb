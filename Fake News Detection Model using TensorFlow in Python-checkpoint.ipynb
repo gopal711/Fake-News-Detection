{
 "cells": [
  {
   "cell_type": "markdown",
   "id": "7604abab",
   "metadata": {},
   "source": [
    "## Importing Libraries and Dataset\n",
    "\n",
    "***The libraries we will be using are :***\n",
    "\n",
    "- NumPy: To perform different mathematical functions. \n",
    "- Pandas: To load dataset.\n",
    "- Tensorflow: To preprocessing the data and to create the model.\n",
    "- SkLearn: For train-test split and to import the modules for model evaluation."
   ]
  },
  {
   "cell_type": "code",
   "execution_count": null,
   "id": "7d6e846f",
   "metadata": {},
   "outputs": [],
   "source": [
    "import numpy as np\n",
    "import pandas as pd\n",
    "import json\n",
    "import csv\n",
    "import random\n",
    "\n",
    "from tensorflow.keras.preprocessing.text import Tokenizer\n",
    "from tensorflow.keras.preprocessing.sequence import pad_sequences\n",
    "from tensorflow.keras.utils import to_categorical\n",
    "from tensorflow.keras import regularizers\n",
    "\n",
    "import pprint\n",
    "import tensorflow.compat.v1 as tf\n",
    "from tensorflow.python.framework import ops\n",
    "from sklearn.model_selection import train_test_split\n",
    "from sklearn import preprocessing\n",
    "tf.disable_eager_execution()\n",
    "\n",
    "# Reading the data\n",
    "data = pd.read_csv(\"news.csv\")\n",
    "data.head()"
   ]
  },
  {
   "cell_type": "markdown",
   "id": "4faa1160",
   "metadata": {},
   "source": [
    "## Preprocessing Dataset\n",
    "\n",
    "As we can see the dataset contains one unnamed column. So we drop that column from the dataset."
   ]
  },
  {
   "cell_type": "code",
   "execution_count": null,
   "id": "957c273c",
   "metadata": {},
   "outputs": [],
   "source": [
    "data = data.drop([\"Unnamed: 0\"], axis=1)\n",
    "data.head(5)"
   ]
  },
  {
   "cell_type": "markdown",
   "id": "700278f9",
   "metadata": {},
   "source": [
    "## Data Encoding\n",
    "\n",
    "It converts the categorical column (label in out case) into numerical values."
   ]
  },
  {
   "cell_type": "code",
   "execution_count": null,
   "id": "4c8e186c",
   "metadata": {},
   "outputs": [],
   "source": [
    "# encoding the labels\n",
    "le = preprocessing.LabelEncoder()\n",
    "le.fit(data['label'])\n",
    "data['label'] = le.transform(data['label'])"
   ]
  },
  {
   "cell_type": "markdown",
   "id": "6f7979fe",
   "metadata": {},
   "source": [
    "**These are some variables required for the model training.**"
   ]
  },
  {
   "cell_type": "code",
   "execution_count": null,
   "id": "d9ff1f2a",
   "metadata": {},
   "outputs": [],
   "source": [
    "embedding_dim = 50\n",
    "max_length = 54\n",
    "trunc_type = 'post'\n",
    "padding_type = 'post'\n",
    "oov_tok = \"<OOV>\"\n",
    "training_size = 3000\n",
    "test_portion = .1"
   ]
  },
  {
   "cell_type": "markdown",
   "id": "24de4ca7",
   "metadata": {},
   "source": [
    "## Tokenization \n",
    "\n",
    "This process divides a large piece of continuous text into distinct units or tokens basically. Here we use columns separately for a temporal basis as a pipeline just for good accuracy."
   ]
  },
  {
   "cell_type": "code",
   "execution_count": null,
   "id": "7cd6110e",
   "metadata": {},
   "outputs": [],
   "source": [
    "title = []\n",
    "text = []\n",
    "labels = []\n",
    "for x in range(training_size):\n",
    "    title.append(data['title'][x])\n",
    "    text.append(data['text'][x])\n",
    "    labels.append(data['label'][x])"
   ]
  },
  {
   "cell_type": "markdown",
   "id": "b5b7377e",
   "metadata": {},
   "source": [
    "### Applying Tokenization"
   ]
  },
  {
   "cell_type": "code",
   "execution_count": null,
   "id": "f797c774",
   "metadata": {},
   "outputs": [],
   "source": [
    "tokenizer1 = Tokenizer()\n",
    "tokenizer1.fit_on_texts(title)\n",
    "word_index1 = tokenizer1.word_index\n",
    "vocab_size1 = len(word_index1)\n",
    "sequences1 = tokenizer1.texts_to_sequences(title)\n",
    "padded1 = pad_sequences(\n",
    "    sequences1, padding=padding_type, truncating=trunc_type)\n",
    "split = int(test_portion * training_size)\n",
    "training_sequences1 = padded1[split:training_size]\n",
    "test_sequences1 = padded1[0:split]\n",
    "test_labels = labels[0:split]\n",
    "training_labels = labels[split:training_size]"
   ]
  },
  {
   "cell_type": "markdown",
   "id": "ef279bbf",
   "metadata": {},
   "source": [
    "## Generating Word Embedding\n",
    "\n",
    "It allows words with similar meanings to have a similar representation. Here each individual word is represented as real-valued vectors in a predefined vector space. For that we will use glove.6B.50d."
   ]
  },
  {
   "cell_type": "code",
   "execution_count": null,
   "id": "fef1daa5",
   "metadata": {},
   "outputs": [],
   "source": [
    "embeddings_index = {}\n",
    "with open('glove.6B.50d.txt') as f:\n",
    "    for line in f:\n",
    "        values = line.split()\n",
    "        word = values[0]\n",
    "        coefs = np.asarray(values[1:], dtype='float32')\n",
    "        embeddings_index[word] = coefs\n",
    "\n",
    "# Generating embeddings\n",
    "embeddings_matrix = np.zeros((vocab_size1+1, embedding_dim))\n",
    "for word, i in word_index1.items():\n",
    "    embedding_vector = embeddings_index.get(word)\n",
    "    if embedding_vector is not None:\n",
    "        embeddings_matrix[i] = embedding_vector\n"
   ]
  },
  {
   "cell_type": "markdown",
   "id": "1599b947",
   "metadata": {},
   "source": [
    "## Creating Model Architecture\n",
    "\n",
    "Now it’s time to introduce TensorFlow to create the model.  Here we use the TensorFlow embedding technique with Keras Embedding Layer where we map original input data into some set of real-valued dimensions."
   ]
  },
  {
   "cell_type": "code",
   "execution_count": null,
   "id": "5a5ac6c4",
   "metadata": {},
   "outputs": [],
   "source": [
    "model = tf.keras.Sequential([\n",
    "    tf.keras.layers.Embedding(vocab_size1+1, embedding_dim,\n",
    "                            input_length=max_length, weights=[\n",
    "                                embeddings_matrix],\n",
    "                            trainable=False),\n",
    "    tf.keras.layers.Dropout(0.2),\n",
    "    tf.keras.layers.Conv1D(64, 5, activation='relu'),\n",
    "    tf.keras.layers.MaxPooling1D(pool_size=4),\n",
    "    tf.keras.layers.LSTM(64),\n",
    "    tf.keras.layers.Dense(1, activation='sigmoid')\n",
    "])\n",
    "model.compile(loss='binary_crossentropy',\n",
    "            optimizer='adam', metrics=['accuracy'])\n",
    "model.summary()"
   ]
  },
  {
   "cell_type": "code",
   "execution_count": null,
   "id": "cb631a10",
   "metadata": {},
   "outputs": [],
   "source": [
    "num_epochs = 50\n",
    "\n",
    "training_padded = np.array(training_sequences1)\n",
    "training_labels = np.array(training_labels)\n",
    "testing_padded = np.array(test_sequences1)\n",
    "testing_labels = np.array(test_labels)\n",
    "\n",
    "history = model.fit(training_padded, training_labels,\n",
    "                    epochs=num_epochs,\n",
    "                    validation_data=(testing_padded,\n",
    "                                    testing_labels),\n",
    "                    verbose=2)\n"
   ]
  },
  {
   "cell_type": "markdown",
   "id": "4ae89c01",
   "metadata": {},
   "source": [
    "## Model Evaluation and Prediction\n",
    "\n",
    "Now, the detection model is built using TensorFlow. Now we will try to test the model by using some news text by predicting whether it is true or false."
   ]
  },
  {
   "cell_type": "code",
   "execution_count": null,
   "id": "59f7144d",
   "metadata": {},
   "outputs": [],
   "source": [
    "# sample text to check if fake or not\n",
    "X = \"Karry to go to France in gesture of sympathy\"\n",
    "\n",
    "# detection\n",
    "sequences = tokenizer1.texts_to_sequences([X])[0]\n",
    "sequences = pad_sequences([sequences], maxlen=54,\n",
    "                        padding=padding_type,\n",
    "                        truncating=trunc_type)\n",
    "if(model.predict(sequences, verbose=0)[0][0] >= 0.5):\n",
    "    print(\"This news is True\")\n",
    "else:\n",
    "    print(\"This news is false\")\n"
   ]
  },
  {
   "cell_type": "code",
   "execution_count": null,
   "id": "f8aba7f8",
   "metadata": {},
   "outputs": [],
   "source": []
  }
 ],
 "metadata": {
  "kernelspec": {
   "display_name": "Python 3 (ipykernel)",
   "language": "python",
   "name": "python3"
  },
  "language_info": {
   "codemirror_mode": {
    "name": "ipython",
    "version": 3
   },
   "file_extension": ".py",
   "mimetype": "text/x-python",
   "name": "python",
   "nbconvert_exporter": "python",
   "pygments_lexer": "ipython3",
   "version": "3.10.9"
  }
 },
 "nbformat": 4,
 "nbformat_minor": 5
}
